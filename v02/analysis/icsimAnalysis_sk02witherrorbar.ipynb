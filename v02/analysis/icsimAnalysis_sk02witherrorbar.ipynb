{
 "cells": [
  {
   "cell_type": "code",
   "execution_count": 13,
   "id": "b15b18d8",
   "metadata": {},
   "outputs": [],
   "source": [
    "import ROOT as rt\n",
    "import sys\n",
    "import numpy as np\n",
    "import matplotlib.pyplot as plt\n"
   ]
  },
  {
   "cell_type": "code",
   "execution_count": 14,
   "id": "eaa3ea32",
   "metadata": {},
   "outputs": [
    {
     "name": "stdout",
     "output_type": "stream",
     "text": [
      "camera:  C1\n"
     ]
    }
   ],
   "source": [
    "rt.gStyle.SetOptStat(0)\n",
    "# camerakey=sys.argv[1]\n",
    "camerakey=\"C1\"\n",
    "print(\"camera: \",camerakey)\n",
    "\n",
    "indir=\"/Users/kunori/skdir/MuonX/mcAnalysis/icsim_02_01_ana/ntupleDir/\"\n",
    "infiles={\"C0RAA\":\"all_C0RAA_012.root\",\"C0RRR\":\"all_C0RRR_012.root\",\n",
    "         \"C1RAA\":\"all_C1RAA_1314.root\",\"C1RRR\":\"all_C1RRR_1314.root\",\n",
    "         \"C2RAA\":\"all_C2RAA_012.root\",\"C2RRR\":\"all_C2RRR_012.root\",\n",
    "         \"C3RAA\":\"all_C3RAA_012.root\",\"C3RRR\":\"all_C3RRR_012.root\",\n",
    "         }\n",
    "\n",
    "\n",
    "outhistname=\"outhist_\"+camerakey+\".root\"\n",
    "fout=rt.TFile(outhistname,\"recreate\")"
   ]
  },
  {
   "cell_type": "code",
   "execution_count": 15,
   "id": "abef45f1",
   "metadata": {},
   "outputs": [],
   "source": [
    "def readYZ(key):\n",
    "   f=rt.TFile(indir+infiles[key])\n",
    "\n",
    "   histCryTime=f.Get(\"all_CryTime\")\n",
    "   days=(histCryTime.GetBinContent(1)/3600./24.)*1.0\n",
    "   daysStr=str(round(days,1))\n",
    "\n",
    "   tree = rt.gROOT.FindObject('tree')\n",
    "\n",
    "   fout.cd()\n",
    "   hname=key+\"yz\"\n",
    "   h2_yz = rt.TH2D(hname,hname,20,-10.0,10.0,16,0.0,8.0)\n",
    "\n",
    "   xyMaxEvents=0    # limit events to process for debug. 0 for all events, \n",
    "   print(\" \",key,\"    nEntries: \",tree.GetEntries(),\"    xyMaxEvents: \",xyMaxEvents)\n",
    "   n=0\n",
    "   for ev in tree:\n",
    "      n=n+1\n",
    "      if n > xyMaxEvents and xyMaxEvents >0:\n",
    "          break\n",
    "\n",
    "      if ev.nHitRef[0] == 0:\n",
    "         continue\n",
    "      h2_yz.Fill(ev.RefProjVy[0],ev.RefProjVz[0])\n",
    "\n",
    "   print(\"key=\",key,\"   type(h2_yz)=\",type(h2_yz))\n",
    "\n",
    "   f.Close()\n",
    "   return h2_yz,daysStr\n",
    "    \n",
    "    "
   ]
  },
  {
   "cell_type": "code",
   "execution_count": 16,
   "id": "ed59d7ed",
   "metadata": {},
   "outputs": [],
   "source": [
    "def makeYZplot(key):\n",
    "   raakey=camerakey+\"RAA\"\n",
    "   h2RAA, days1=readYZ(raakey)\n",
    "   rrrkey=camerakey+\"RRR\"\n",
    "   h2RRR, days2=readYZ(rrrkey)\n",
    "\n",
    "   h2RAA.Divide(h2RRR)\n",
    "   htitle=camerakey+\"-view\"+\"     \"+days1+\" days\"\n",
    "\n",
    "   c1 = rt.TCanvas( 'c1', 'The Fit Canvas', 200, 10, 700, 500 )\n",
    "   c1.cd()\n",
    "\n",
    "   h2RAA.Draw(\"COLZ\")\n",
    "   h2RAA.SetAxisRange(0.8, 1.2,\"Z\")\n",
    "   h2RAA.SetTitle(htitle)\n",
    "   h2RAA.GetXaxis().SetTitle(\"Y (m)\")\n",
    "   h2RAA.GetYaxis().SetTitle(\"Z (m)\")\n",
    "   pdffile=\"plot_yz_\"+camerakey+\".pdf\"\n",
    "   c1.Print(pdffile)"
   ]
  },
  {
   "cell_type": "code",
   "execution_count": 17,
   "id": "a212e18d",
   "metadata": {},
   "outputs": [],
   "source": [
    "def makeZ123ratio(zkey):\n",
    "   yband={\"Z1\":\"Y=[-6,-2]\",\"Z2\":\"Y=[-2,2]\",\"Z3\":\"Y=[+2,+6]\"}   \n",
    "\n",
    "   raakey=camerakey+\"RAA\"\n",
    "   rrrkey=camerakey+\"RRR\"\n",
    "   fa=rt.TFile(indir+infiles[raakey])  \n",
    "   fb=rt.TFile(indir+infiles[rrrkey])\n",
    "\n",
    "   histCryTime=fa.Get(\"all_CryTime\")\n",
    "   days=(histCryTime.GetBinContent(1)/3600./24.)*1.0\n",
    "   daysStr=str(round(days,1))\n",
    "\n",
    "   hname=\"Proj\"+zkey\n",
    "\n",
    "   histA=fa.Get(hname)\n",
    "   histB=fb.Get(hname)\n",
    "   histA.Divide(histB)\n",
    "\n",
    "   htitle=camerakey+\" Projected-Z \"+yband[zkey]+\"     \"+daysStr+\" days\"\n",
    "\n",
    "   c2 = rt.TCanvas( 'c2', 'The Fit Canvas', 200, 10, 700, 500 )\n",
    "   c2.cd()\n",
    "   c2.SetGrid()\n",
    "\n",
    "   histA.Draw()\n",
    "   histA.SetAxisRange(0.0, 8.0,\"X\")\n",
    "   histA.SetAxisRange(0.8, 1.2,\"Y\")\n",
    "   histA.SetTitle(htitle)\n",
    "   histA.GetXaxis().SetTitle(\"Z (m)\")\n",
    "   pdffile=\"Zratio_\"+camerakey+\"_\"+zkey+\".pdf\"\n",
    "   c2.Print(pdffile)\n",
    "\n"
   ]
  },
  {
   "cell_type": "code",
   "execution_count": 18,
   "id": "728f71b0",
   "metadata": {},
   "outputs": [
    {
     "name": "stdout",
     "output_type": "stream",
     "text": [
      "  C1RAA     nEntries:  0     xyMaxEvents:  0\n",
      "key= C1RAA    type(h2_yz)= <class cppyy.gbl.TH2D at 0x7f910ede0610>\n",
      "  C1RRR     nEntries:  0     xyMaxEvents:  0\n",
      "key= C1RRR    type(h2_yz)= <class cppyy.gbl.TH2D at 0x7f910ede0610>\n"
     ]
    },
    {
     "name": "stderr",
     "output_type": "stream",
     "text": [
      "Warning in <TCanvas::Constructor>: Deleting canvas with same name: c1\n",
      "Info in <TCanvas::Print>: pdf file plot_yz_C1.pdf has been created\n",
      "Warning in <TCanvas::Constructor>: Deleting canvas with same name: c2\n",
      "Info in <TCanvas::Print>: pdf file Zratio_C1_Z1.pdf has been created\n",
      "Warning in <TCanvas::Constructor>: Deleting canvas with same name: c2\n",
      "Info in <TCanvas::Print>: pdf file Zratio_C1_Z2.pdf has been created\n",
      "Warning in <TCanvas::Constructor>: Deleting canvas with same name: c2\n",
      "Info in <TCanvas::Print>: pdf file Zratio_C1_Z3.pdf has been created\n"
     ]
    }
   ],
   "source": [
    "makeYZplot(camerakey) \n",
    "\n",
    "makeZ123ratio(\"Z1\")\n",
    "makeZ123ratio(\"Z2\")\n",
    "makeZ123ratio(\"Z3\")"
   ]
  },
  {
   "cell_type": "code",
   "execution_count": null,
   "id": "7954e1c8",
   "metadata": {},
   "outputs": [],
   "source": []
  },
  {
   "cell_type": "code",
   "execution_count": 24,
   "id": "9326d5fa",
   "metadata": {},
   "outputs": [],
   "source": [
    "def makeZ123ratioErrorBars(zkey):\n",
    "   yband={\"Z1\":\"Y=[-6,-2]\",\"Z2\":\"Y=[-2,2]\",\"Z3\":\"Y=[+2,+6]\"}   \n",
    "\n",
    "   raakey=camerakey+\"RAA\"\n",
    "   rrrkey=camerakey+\"RRR\"\n",
    "   fa=rt.TFile(indir+infiles[raakey])  \n",
    "   fb=rt.TFile(indir+infiles[rrrkey])\n",
    "\n",
    "   histCryTime=fa.Get(\"all_CryTime\")\n",
    "   days=(histCryTime.GetBinContent(1)/3600./24.)*1.0\n",
    "   daysStr=str(round(days,1))\n",
    "\n",
    "   hname=\"Proj\"+zkey\n",
    "\n",
    "   histA=fa.Get(hname)\n",
    "   histB=fb.Get(hname)\n",
    "\n",
    "   pEff=rt.TEfficiency(histA,histB)\n",
    "\n",
    "   # histA.Divide(histB)\n",
    "\n",
    "   htitle=camerakey+\" Projected-Z \"+yband[zkey]+\"     \"+daysStr+\" days\"\n",
    "\n",
    "   c2 = rt.TCanvas( 'c2', 'The Fit Canvas', 200, 10, 700, 500 )\n",
    "   c2.cd()\n",
    "   c2.SetGrid()\n",
    "\n",
    "   pEff.Draw()\n",
    "   # pEff.SetAxisRange(0.0, 8.0,\"X\")\n",
    "   # Eff.SetAxisRange(0.8, 1.2,\"Y\")\n",
    "   # pEff.SetTitle(htitle)\n",
    "   # pEff.GetXaxis().SetTitle(\"Z (m)\")\n",
    "   pdffile=\"ZratioWerror_\"+camerakey+\"_\"+zkey+\".pdf\"\n",
    "   c2.Print(pdffile)\n",
    "\n"
   ]
  },
  {
   "cell_type": "code",
   "execution_count": 25,
   "id": "c41a3466",
   "metadata": {},
   "outputs": [
    {
     "name": "stderr",
     "output_type": "stream",
     "text": [
      "Info in <TROOT::TEfficiency::CheckEntries>: Histograms are not consistent: passed bin content > total bin content\n",
      "Error in <TROOT::TEfficiency::CheckConsistency>: passed TEfficiency objects do not have consistent bin contents\n",
      "Error in <TEfficiency::TEfficiency(const TH1&,const TH1&)>: histograms are not consistent -> results are useless\n",
      "Warning in <TEfficiency::TEfficiency(const TH1&,const TH1&)>: using two empty TH1D('h1','h1',10,0,10)\n",
      "Warning in <TCanvas::Constructor>: Deleting canvas with same name: c2\n",
      "Info in <TCanvas::Print>: pdf file ZratioWerror_C1_Z2.pdf has been created\n"
     ]
    }
   ],
   "source": [
    "makeZ123ratioErrorBars(\"Z2\")"
   ]
  },
  {
   "cell_type": "code",
   "execution_count": null,
   "id": "cbc3bedc",
   "metadata": {},
   "outputs": [],
   "source": []
  },
  {
   "cell_type": "code",
   "execution_count": null,
   "id": "120fb8af",
   "metadata": {},
   "outputs": [],
   "source": []
  }
 ],
 "metadata": {
  "kernelspec": {
   "display_name": "Python 3 (ipykernel)",
   "language": "python",
   "name": "python3"
  },
  "language_info": {
   "codemirror_mode": {
    "name": "ipython",
    "version": 3
   },
   "file_extension": ".py",
   "mimetype": "text/x-python",
   "name": "python",
   "nbconvert_exporter": "python",
   "pygments_lexer": "ipython3",
   "version": "3.9.6"
  }
 },
 "nbformat": 4,
 "nbformat_minor": 5
}
